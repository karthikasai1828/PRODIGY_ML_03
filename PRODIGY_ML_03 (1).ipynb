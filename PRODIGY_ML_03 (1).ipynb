{
  "nbformat": 4,
  "nbformat_minor": 0,
  "metadata": {
    "colab": {
      "provenance": []
    },
    "kernelspec": {
      "name": "python3",
      "display_name": "Python 3"
    },
    "language_info": {
      "name": "python"
    }
  },
  "cells": [
    {
      "cell_type": "code",
      "execution_count": 1,
      "metadata": {
        "id": "ph6_du4Nc1ts"
      },
      "outputs": [],
      "source": [
        "import tensorflow as tf\n",
        "import tensorflow_datasets as tfds\n",
        "import numpy as np\n",
        "import cv2\n",
        "import random\n",
        "from sklearn.svm import SVC\n",
        "from sklearn.metrics import classification_report, accuracy_score\n",
        "import matplotlib.pyplot as plt\n"
      ]
    },
    {
      "cell_type": "code",
      "source": [
        "\n",
        "# Set random seed for reproducibility\n",
        "np.random.seed(42)\n",
        "tf.random.set_seed(42)\n",
        "\n",
        "# Load dataset\n",
        "dataset, info = tfds.load('cats_vs_dogs', with_info=True, as_supervised=True)\n"
      ],
      "metadata": {
        "id": "XTl3pYb8d_HO"
      },
      "execution_count": null,
      "outputs": []
    },
    {
      "cell_type": "code",
      "source": [
        "# Split dataset into train and test sets\n",
        "def split_dataset(dataset, split_ratio=0.8):\n",
        "    data = list(dataset)\n",
        "    random.shuffle(data)\n",
        "    split_index = int(len(data) * split_ratio)\n",
        "    return data[:split_index], data[split_index:]\n",
        "\n",
        "train_data, test_data = split_dataset(dataset['train'])\n"
      ],
      "metadata": {
        "id": "SG3huLI2eC02"
      },
      "execution_count": null,
      "outputs": []
    },
    {
      "cell_type": "code",
      "source": [
        "# Function to preprocess images\n",
        "def preprocess_image(image, label, img_size=(64, 64)):\n",
        "    image = tf.image.resize(image, img_size)\n",
        "    image = tf.cast(image, tf.float32) / 255.0\n",
        "    image = tf.reshape(image, (-1,))  # Flatten the image\n",
        "    return image.numpy(), label.numpy()"
      ],
      "metadata": {
        "id": "ZGLiyVH0eGFI"
      },
      "execution_count": null,
      "outputs": []
    },
    {
      "cell_type": "code",
      "source": [
        "# Prepare data for SVM\n",
        "def prepare_data(data):\n",
        "    images = []\n",
        "    labels = []\n",
        "    for image, label in data:\n",
        "        img, lbl = preprocess_image(image, label)\n",
        "        images.append(img)\n",
        "        labels.append(lbl)\n",
        "    return np.array(images), np.array(labels)\n",
        "\n",
        "train_images, train_labels = prepare_data(train_data)\n",
        "test_images, test_labels = prepare_data(test_data)"
      ],
      "metadata": {
        "id": "sfry6SOYeJb4"
      },
      "execution_count": null,
      "outputs": []
    },
    {
      "cell_type": "code",
      "source": [
        "# Train SVM model\n",
        "svm_model = SVC(kernel='linear')\n",
        "svm_model.fit(train_images, train_labels)\n",
        "\n",
        "# Evaluate model\n",
        "test_predictions = svm_model.predict(test_images)\n",
        "print(\"Classification Report:\\n\", classification_report(test_labels, test_predictions))\n",
        "print(\"Accuracy: \", accuracy_score(test_labels, test_predictions))"
      ],
      "metadata": {
        "id": "2ANgaHDbeMvA"
      },
      "execution_count": null,
      "outputs": []
    },
    {
      "cell_type": "code",
      "source": [
        "# Display random images\n",
        "def display_random_images(data, num_images=16):\n",
        "    random_images = random.sample(data, num_images)\n",
        "\n",
        "    num_rows = num_images // 4\n",
        "    num_cols = 4\n",
        "\n",
        "    fig, axes = plt.subplots(num_rows, num_cols, figsize=(20, num_rows * 5))\n",
        "    axes = axes.ravel()\n",
        "\n",
        "    for i, (image, label) in enumerate(random_images):\n",
        "        image, _ = preprocess_image(image, label, img_size=(64, 64))\n",
        "        image = image.reshape((64, 64, 3))\n",
        "        axes[i].imshow(image)\n",
        "        axes[i].set_title(\"Cat\" if label == 0 else \"Dog\", fontsize=15)\n",
        "        axes[i].axis('off')\n",
        "\n",
        "    plt.tight_layout()\n",
        "    plt.show()\n",
        "\n",
        "display_random_images(train_data)"
      ],
      "metadata": {
        "id": "DKG_gXltePrp"
      },
      "execution_count": null,
      "outputs": []
    },
    {
      "cell_type": "code",
      "source": [
        "# Function to classify a single image\n",
        "def classify_single_image(image_path, model, img_size=(64, 64)):\n",
        "    image = cv2.imread(image_path)\n",
        "    image = cv2.cvtColor(image, cv2.COLOR_BGR2RGB)\n",
        "    image = cv2.resize(image, img_size)\n",
        "    image = image.astype('float32') / 255.0\n",
        "    image = image.reshape((-1,))\n",
        "    prediction = model.predict([image])\n",
        "    return prediction[0]\n"
      ],
      "metadata": {
        "id": "vxp7W6hteTQ8"
      },
      "execution_count": null,
      "outputs": []
    },
    {
      "cell_type": "code",
      "source": [
        "# Example usage\n",
        "image_path = 'https://encrypted-tbn0.gstatic.com/images?q=tbn:ANd9GcTxKxnutgxwkYUpIdxXyfenk4Xm0t8lZN05SqulcPwsDA&s'  # Replace with the path to your JPEG image\n",
        "prediction = classify_single_image(image_path, svm_model)\n",
        "if prediction == 0:\n",
        "    print(\"The image is classified as: Cat\")\n",
        "else:\n",
        "    print(\"The image is classified as: Dog\")"
      ],
      "metadata": {
        "id": "OTtfiSZYeVEY"
      },
      "execution_count": null,
      "outputs": []
    }
  ]
}